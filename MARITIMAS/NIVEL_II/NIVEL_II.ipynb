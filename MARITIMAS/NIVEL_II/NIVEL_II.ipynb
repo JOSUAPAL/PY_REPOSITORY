{
 "cells": [
  {
   "cell_type": "markdown",
   "id": "986281d7-408e-4c47-93a8-b82e18bdb29e",
   "metadata": {},
   "source": [
    "# Enunciado del ejemplo:\n",
    "\n",
    "<i>Empleando el ajuste de Negro y Varela, se pretende obtener el valor de la probabilidad de fallo y punto de diseño de una obra de un dique de tipología rompeolas con piezas cúbicas de hormigón en masa para protección de su manto principal, dimensión del bloque de Dn50 = 2,50 m y peso específico del hormigón de J = 2,40 T/m 3 , considerando estos dos\n",
    "parámetros (Dn50 y J) como variables deterministas, es decir, de valor fijo o no aleatorias.</i>"
   ]
  },
  {
   "cell_type": "code",
   "execution_count": null,
   "id": "7e52df86-2f4e-4b5e-99b4-96219b6e953c",
   "metadata": {},
   "outputs": [],
   "source": []
  }
 ],
 "metadata": {
  "kernelspec": {
   "display_name": "Python 3 (ipykernel)",
   "language": "python",
   "name": "python3"
  },
  "language_info": {
   "codemirror_mode": {
    "name": "ipython",
    "version": 3
   },
   "file_extension": ".py",
   "mimetype": "text/x-python",
   "name": "python",
   "nbconvert_exporter": "python",
   "pygments_lexer": "ipython3",
   "version": "3.11.5"
  }
 },
 "nbformat": 4,
 "nbformat_minor": 5
}
